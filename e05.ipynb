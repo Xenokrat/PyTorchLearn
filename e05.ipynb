{
 "cells": [
  {
   "cell_type": "code",
   "execution_count": 15,
   "metadata": {},
   "outputs": [],
   "source": [
    "import torch\n",
    "import torch.nn as nn\n",
    "import torchvision\n",
    "import torchvision.datasets as dsets\n",
    "import torchvision.transforms as transforms\n",
    "import matplotlib.pyplot as plt"
   ]
  },
  {
   "cell_type": "code",
   "execution_count": 2,
   "metadata": {},
   "outputs": [],
   "source": [
    "# Hyper-Parameters\n",
    "\n",
    "input_size = 28*28  # размер изображения в точках\n",
    "hidden_size = 500   # нейронов в скрытом слое\n",
    "num_classes = 10    # количество распознаваемых классов (10 цифр)\n",
    "n_epochs = 2        # количество эпох\n",
    "batch_szie = 4      # размер мини-пакета входных данных\n",
    "lr = 0.01           # скорость обучения"
   ]
  },
  {
   "cell_type": "code",
   "execution_count": 3,
   "metadata": {},
   "outputs": [
    {
     "name": "stdout",
     "output_type": "stream",
     "text": [
      "60000\n",
      "10000\n"
     ]
    }
   ],
   "source": [
    "mnist_trainset = dsets.MNIST(\n",
    "    root=\"./data\", train=True, \n",
    "    download=True, transform=transforms.ToTensor()\n",
    ")\n",
    "mnist_testset = dsets.MNIST(\n",
    "    root=\"./data\", train=False, \n",
    "    download=True, transform=transforms.ToTensor()\n",
    ")\n",
    "print(len(mnist_trainset))\n",
    "print(len(mnist_testset))"
   ]
  },
  {
   "cell_type": "code",
   "execution_count": 4,
   "metadata": {},
   "outputs": [],
   "source": [
    "train_loader = torch.utils.data.DataLoader(mnist_trainset, batch_size=batch_szie, shuffle=True)\n",
    "test_loader = torch.utils.data.DataLoader(mnist_testset, batch_size=batch_szie, shuffle=False)"
   ]
  },
  {
   "cell_type": "code",
   "execution_count": 5,
   "metadata": {},
   "outputs": [],
   "source": [
    "device = \"cuda\" if torch.cuda.is_available() else \"cpu\""
   ]
  },
  {
   "cell_type": "code",
   "execution_count": 6,
   "metadata": {},
   "outputs": [],
   "source": [
    "def make_train_step(model, loss_fn, optimizer):\n",
    "    def train_step(X, y):\n",
    "        model.train()\n",
    "        yhat = model(X)\n",
    "        loss = loss_fn(yhat, y)\n",
    "        loss.backward()\n",
    "        optimizer.step()\n",
    "        optimizer.zero_grad()\n",
    "        return loss.item()\n",
    "    return train_step"
   ]
  },
  {
   "cell_type": "code",
   "execution_count": 7,
   "metadata": {},
   "outputs": [
    {
     "data": {
      "text/plain": [
       "Sequential(\n",
       "  (0): Linear(in_features=784, out_features=500, bias=True)\n",
       "  (1): ReLU()\n",
       "  (2): Linear(in_features=500, out_features=10, bias=True)\n",
       ")"
      ]
     },
     "execution_count": 7,
     "metadata": {},
     "output_type": "execute_result"
    }
   ],
   "source": [
    "model = nn.Sequential(\n",
    "    nn.Linear(input_size, hidden_size),\n",
    "    nn.ReLU(),\n",
    "    nn.Linear(hidden_size, num_classes)\n",
    ")\n",
    "model.to(device)"
   ]
  },
  {
   "cell_type": "code",
   "execution_count": 8,
   "metadata": {},
   "outputs": [],
   "source": [
    "loss_fn = torch.nn.CrossEntropyLoss()\n",
    "optimizer = torch.optim.Adam(model.parameters(), lr=lr)"
   ]
  },
  {
   "cell_type": "code",
   "execution_count": 9,
   "metadata": {},
   "outputs": [],
   "source": [
    "train_step = make_train_step(model, loss_fn, optimizer)"
   ]
  },
  {
   "cell_type": "code",
   "execution_count": 10,
   "metadata": {},
   "outputs": [
    {
     "name": "stdout",
     "output_type": "stream",
     "text": [
      "Epoch is 0\n",
      "Epoch is 1\n",
      "Model - OrderedDict([('0.weight', tensor([[-0.0025,  0.0019, -0.0332,  ...,  0.0125,  0.0298, -0.0070],\n",
      "        [-0.0109, -0.0088, -0.0207,  ...,  0.0104, -0.0215,  0.0050],\n",
      "        [-0.0197, -0.0139,  0.0305,  ..., -0.0160,  0.0337, -0.0138],\n",
      "        ...,\n",
      "        [ 0.0045, -0.0029, -0.0012,  ..., -0.0279, -0.0219,  0.0053],\n",
      "        [ 0.0344,  0.0143,  0.0326,  ..., -0.0041, -0.0012, -0.0134],\n",
      "        [-0.0188, -0.0158,  0.0045,  ...,  0.0189,  0.0206, -0.0016]],\n",
      "       device='cuda:0')), ('0.bias', tensor([-0.9246, -0.0833, -0.0428, -0.0398, -0.0805, -0.0537, -0.0648, -0.3794,\n",
      "        -0.0780, -0.0821, -0.0758, -0.4057, -0.4451, -0.0818, -0.0563, -0.1679,\n",
      "        -0.0429, -0.0325, -0.0349, -0.0937, -0.4345, -0.0640, -0.1285, -0.0896,\n",
      "        -0.0684, -0.1771, -0.1965, -0.0199, -0.4781, -0.9789, -0.0713, -0.6778,\n",
      "        -0.4547, -0.0905, -0.3511, -0.0441, -0.0668, -2.6390, -0.0244, -1.0985,\n",
      "        -1.0266, -0.0258, -0.3179, -0.6001, -0.0418, -0.1059, -0.0545, -0.7882,\n",
      "        -0.0815, -0.0905, -0.0842, -0.0500, -0.0494, -0.0334, -0.0646, -0.0795,\n",
      "        -0.0926, -0.0710, -0.0609, -0.8715, -0.5079, -0.0575, -0.0720, -0.0965,\n",
      "        -0.0732, -1.3826, -0.0973, -0.3156, -0.0053, -0.0323, -0.0902, -0.0414,\n",
      "        -0.1525, -0.0534, -0.0606, -0.3586, -1.2066, -0.0828, -0.0750, -0.0298,\n",
      "        -0.0721, -0.0851, -0.0729, -0.0825, -0.0711, -0.7626, -0.0743, -0.0603,\n",
      "        -0.0444, -0.8922, -0.0487, -0.0810, -0.0879, -0.0488, -0.0801, -0.1094,\n",
      "        -0.0502, -0.0419, -0.0331, -0.0643, -0.0542, -0.0446, -0.3435, -0.0430,\n",
      "        -0.0818, -0.0827, -0.0635, -0.0779, -0.0484, -0.7282, -0.0486, -0.0122,\n",
      "        -0.0628, -0.0835, -0.0778, -0.0587, -0.0420, -0.0310, -0.0798, -0.0261,\n",
      "        -0.0102, -0.1025, -0.0700, -0.5193, -0.0696, -0.6281, -0.0625, -0.0807,\n",
      "        -0.0502, -1.0397, -0.5560, -0.0972, -0.0518, -0.1217, -2.0023, -0.0846,\n",
      "        -0.0805, -0.0793, -0.0386, -0.0266, -2.3017, -0.0615, -0.1013, -0.6140,\n",
      "        -0.0729, -1.1743, -0.0818, -0.0496, -0.7291, -0.0465, -0.0624, -0.0448,\n",
      "        -0.0668, -0.0793, -1.5136, -0.0307, -0.1758, -0.1647, -0.1611, -0.0779,\n",
      "        -0.0870, -0.0472, -0.2381, -0.2666, -0.0739,  0.3566, -0.0369, -0.0530,\n",
      "        -0.0514, -0.3309, -0.5832, -0.0762, -0.0436, -0.0426, -0.0562, -0.0620,\n",
      "        -0.3643, -0.0270, -0.0303, -0.0420, -0.1160, -0.0689, -1.0203, -0.8019,\n",
      "        -0.1263, -0.0508, -0.0780, -0.2352, -0.3417, -0.0672, -0.9840, -0.0858,\n",
      "        -0.3873, -0.0426, -0.0603, -0.1589, -0.1431, -0.0344, -0.1084, -0.0778,\n",
      "        -0.6729, -0.0730, -0.0245, -0.0633, -0.3276, -0.0934, -0.0229, -0.0697,\n",
      "        -0.5691, -0.0307, -0.0731, -0.0271, -0.1660, -0.2915, -0.0881, -0.1117,\n",
      "        -0.0377, -0.4168, -0.0763, -0.0650, -0.0825, -0.0812, -0.0300, -0.1571,\n",
      "        -0.0798, -0.0623, -0.1983, -0.0470, -0.1037, -0.0489, -0.0615, -0.4002,\n",
      "        -0.0287, -0.0467, -1.8479, -0.0213, -0.0764, -0.0328, -0.0417, -0.0774,\n",
      "        -2.1776, -0.0571, -0.0810, -0.0625, -0.0680, -0.0460, -0.0532, -0.0260,\n",
      "        -0.0672, -2.8260, -0.0947, -0.3779, -0.1210, -0.0362, -0.0778, -0.0310,\n",
      "        -0.0587, -0.0627, -0.0859, -3.6347, -0.1188, -0.0446, -0.0076, -0.0956,\n",
      "        -0.0771, -0.0325, -0.0583, -0.0491, -0.1388, -0.0504, -0.6001, -1.3247,\n",
      "        -1.2452, -0.0192, -0.0340, -0.0396, -0.0533, -0.0565, -0.0840, -0.0783,\n",
      "        -0.0484, -0.2606, -0.0296, -0.0697, -0.0540, -0.0456, -0.0348, -0.0604,\n",
      "        -0.0666, -0.0721, -0.1107, -0.0649, -0.0750, -1.0035, -1.9196, -0.1824,\n",
      "        -0.0864, -0.0687, -0.0842, -0.2402, -0.0317, -0.0532, -0.0299, -0.1028,\n",
      "        -1.1874, -0.1656, -0.0727, -0.0683, -0.0456, -0.0757, -0.0308, -0.0662,\n",
      "        -0.3050, -0.0825, -0.3384, -0.2890, -0.0721, -0.1434,  0.1878, -0.4731,\n",
      "        -0.0811, -0.0308, -0.0485, -0.0755, -0.0695, -0.1771, -0.0341, -2.0941,\n",
      "        -1.9868, -0.1306, -0.0791, -0.0202, -0.0623, -0.0330, -0.0544, -0.0906,\n",
      "        -0.0656, -0.0808, -0.0732, -0.0229, -0.0481, -1.3744, -1.8995, -0.1107,\n",
      "        -0.0679, -0.0354, -0.0162, -0.0242, -0.0545, -0.0824, -0.0686, -0.6028,\n",
      "        -0.3576, -0.0614,  0.3354, -0.0385, -0.0485, -1.5084, -0.0789, -0.3365,\n",
      "        -0.0660, -0.0899, -0.0550, -2.1737, -0.0684, -0.0295, -0.0900, -0.0891,\n",
      "        -0.0304, -0.0733, -0.7293, -0.0371, -0.0708, -0.4472, -0.0639, -0.0637,\n",
      "        -0.0371, -1.8690, -0.0652, -0.0958, -0.0729, -0.0340, -0.0862, -0.1113,\n",
      "        -0.0801, -0.2065, -0.0856, -0.0815, -0.2832, -1.8637, -0.0904, -0.0719,\n",
      "        -0.0548, -0.0460, -0.0309, -0.3396, -0.0444, -0.0740, -2.0772, -0.0728,\n",
      "        -0.0850, -0.0531, -0.0944, -1.0757, -0.0368, -0.0736, -0.0930, -0.0821,\n",
      "        -0.0814, -0.0401, -0.0574, -0.0421, -0.0388, -0.0517, -0.0569, -0.3705,\n",
      "        -0.0709, -0.0466, -0.0637, -0.0257, -0.0720, -0.1988, -0.0734, -0.0840,\n",
      "        -0.1109, -0.0334, -0.0653, -0.0913, -0.0749, -0.1528, -0.0484, -0.0321,\n",
      "        -0.0969, -0.1591, -0.0674, -0.4398, -0.0247, -0.0955,  0.4078, -0.0833,\n",
      "        -0.0714, -0.0832, -0.4478, -0.8904, -0.0300, -0.0841, -0.0761, -0.9458,\n",
      "        -0.0933, -0.0624, -1.3592, -0.2007, -0.2863, -0.1542, -0.0767, -0.5183,\n",
      "        -0.0822, -0.0491, -0.0453, -0.0133, -0.1123, -0.0776, -0.0576, -0.0877,\n",
      "        -0.0627, -0.0272, -0.0873, -0.0359, -0.0297, -0.0612, -0.9965, -0.4554,\n",
      "        -0.0326, -0.1383, -0.3982, -0.8165, -0.0924, -0.0637, -0.0884, -0.0595,\n",
      "        -0.0894, -0.1148, -0.3394, -0.2033, -0.0292, -0.0275, -0.0671, -0.3538,\n",
      "        -0.2305, -0.0674, -0.2805, -0.0509, -0.0863, -2.2772, -0.0368, -0.0295,\n",
      "        -0.1084, -0.0580, -0.0870, -0.0756], device='cuda:0')), ('2.weight', tensor([[-0.6681, -0.0413, -0.0974,  ..., -0.0374, -0.0436, -0.0722],\n",
      "        [-0.4589,  0.0464, -0.0977,  ..., -0.1012, -0.0528, -0.0839],\n",
      "        [ 0.1499, -0.0914, -0.0298,  ...,  0.0112, -0.0350, -0.0455],\n",
      "        ...,\n",
      "        [-1.0333,  0.0122, -0.0794,  ..., -0.0343,  0.0724, -0.0276],\n",
      "        [ 0.0481, -0.0375, -0.0318,  ..., -0.0486, -0.0512, -0.0774],\n",
      "        [-0.0271,  0.0650, -0.0272,  ..., -0.1141, -0.0506, -0.0836]],\n",
      "       device='cuda:0')), ('2.bias', tensor([ 0.3339, -1.0714, -0.5530, -0.0164, -0.1949, -0.6407, -1.1349, -0.9928,\n",
      "         1.7133,  0.6640], device='cuda:0'))])\n",
      "Loss - 0.010116443037986755\n"
     ]
    }
   ],
   "source": [
    "for epoch in range(n_epochs):\n",
    "    for images, labels in train_loader:\n",
    "        images = images.reshape(-1, 28*28).to(device)\n",
    "        labels = labels.to(device)\n",
    "        loss = train_step(images, labels)\n",
    "\n",
    "    print(f\"Epoch is {epoch}\")\n",
    "\n",
    "print(f\"Model - {model.state_dict()}\")\n",
    "print(f\"Loss - {loss}\")"
   ]
  },
  {
   "cell_type": "code",
   "execution_count": 13,
   "metadata": {},
   "outputs": [
    {
     "name": "stdout",
     "output_type": "stream",
     "text": [
      "Точность: 93.09\n"
     ]
    }
   ],
   "source": [
    "with torch.no_grad():\n",
    "    correct = 0\n",
    "    total = 0\n",
    "    for images, labels in test_loader:\n",
    "        images = images.reshape(-1, 28*28).to(device)\n",
    "        labels = labels.to(device)\n",
    "        outputs = model(images)\n",
    "        _, predicted = torch.max(outputs.data, 1)\n",
    "        total += labels.size(0)\n",
    "        correct += (predicted == labels).sum().item()\n",
    "\n",
    "print(f\"Точность: {round(100 * correct / total, 2)}\")"
   ]
  },
  {
   "cell_type": "code",
   "execution_count": 14,
   "metadata": {},
   "outputs": [
    {
     "data": {
      "text/plain": [
       "2500"
      ]
     },
     "execution_count": 14,
     "metadata": {},
     "output_type": "execute_result"
    }
   ],
   "source": [
    "len(test_loader)"
   ]
  },
  {
   "cell_type": "code",
   "execution_count": 15,
   "metadata": {},
   "outputs": [],
   "source": [
    "torch.save(model, \"./data/mnist_full.pt\")"
   ]
  },
  {
   "cell_type": "code",
   "execution_count": 17,
   "metadata": {},
   "outputs": [
    {
     "data": {
      "text/plain": [
       "Sequential(\n",
       "  (0): Linear(in_features=784, out_features=500, bias=True)\n",
       "  (1): ReLU()\n",
       "  (2): Linear(in_features=500, out_features=10, bias=True)\n",
       ")"
      ]
     },
     "execution_count": 17,
     "metadata": {},
     "output_type": "execute_result"
    }
   ],
   "source": [
    "model = torch.load(\"./data/mnist_full.pt\")\n",
    "model.eval()"
   ]
  },
  {
   "cell_type": "code",
   "execution_count": 13,
   "metadata": {},
   "outputs": [
    {
     "name": "stdout",
     "output_type": "stream",
     "text": [
      "Epoch is 0\n",
      "Epoch is 1\n",
      "Epoch is 2\n",
      "Epoch is 3\n",
      "Epoch is 4\n",
      "Epoch is 5\n",
      "Epoch is 6\n",
      "Epoch is 7\n",
      "Epoch is 8\n",
      "Epoch is 9\n",
      "Epoch is 10\n",
      "Epoch is 11\n",
      "Epoch is 12\n",
      "Epoch is 13\n",
      "Epoch is 14\n",
      "Epoch is 15\n",
      "Точность: 96.82\n"
     ]
    }
   ],
   "source": [
    "n_epochs = 16\n",
    "batch_szie = 64\n",
    "hidden_size = 1500\n",
    "\n",
    "train_loader = torch.utils.data.DataLoader(mnist_trainset, batch_size=batch_szie, shuffle=True)\n",
    "test_loader = torch.utils.data.DataLoader(mnist_testset, batch_size=batch_szie, shuffle=False)\n",
    "\n",
    "model = nn.Sequential(\n",
    "    nn.Linear(input_size, hidden_size),\n",
    "    nn.ReLU(),\n",
    "    nn.Linear(hidden_size, num_classes),\n",
    ")\n",
    "model.to(device)\n",
    "\n",
    "loss_fn = torch.nn.CrossEntropyLoss()\n",
    "optimizer = torch.optim.Adam(model.parameters(), lr=lr)\n",
    "\n",
    "train_step = make_train_step(model, loss_fn, optimizer)\n",
    "\n",
    "for epoch in range(n_epochs):\n",
    "    for images, labels in train_loader:\n",
    "        images = images.reshape(-1, 28*28).to(device)\n",
    "        labels = labels.to(device)\n",
    "        loss = train_step(images, labels)\n",
    "\n",
    "    print(f\"Epoch is {epoch}\")\n",
    "\n",
    "with torch.no_grad():\n",
    "    correct = 0\n",
    "    total = 0\n",
    "    for images, labels in test_loader:\n",
    "        images = images.reshape(-1, 28*28).to(device)\n",
    "        labels = labels.to(device)\n",
    "        outputs = model(images)\n",
    "        _, predicted = torch.max(outputs.data, 1)\n",
    "        total += labels.size(0)\n",
    "        correct += (predicted == labels).sum().item()\n",
    "\n",
    "print(f\"Точность: {round(100 * correct / total, 2)}\")"
   ]
  },
  {
   "cell_type": "markdown",
   "metadata": {},
   "source": [
    "- 2 эпохи - 90%\n",
    "- 4 эпохи - 93.05% \n",
    "- 8 эпох  - 93.53%"
   ]
  },
  {
   "cell_type": "markdown",
   "metadata": {},
   "source": [
    "- batch_size=1 - 89.16%\n",
    "- batch_size=2 - 92.06%\n",
    "- batch_size=4 - 92.57%\n",
    "- batch_size=8 - 93.51%\n",
    "- batch_size=16 - 94.16%\n",
    "- batch_size=32 - 95.95%\n",
    "- batch_size=64 - 96.38%\n",
    "- batch_size=max - 59.04%"
   ]
  },
  {
   "cell_type": "markdown",
   "metadata": {},
   "source": [
    "- hidden_size=100 - 92.18%\n",
    "- hidden_size=250 - 92.64%\n",
    "- hidden_size=500 - 93.18%\n",
    "- hidden_size=750 - 93.09%\n",
    "- hidden_size=1000 - 93.34%\n",
    "- hidden_size=1500 - 93.59%"
   ]
  },
  {
   "cell_type": "markdown",
   "metadata": {},
   "source": [
    "- ReLU x2 - Точность: 92.8\n",
    "- ReLU x3 - Точность: 91.1"
   ]
  },
  {
   "cell_type": "markdown",
   "metadata": {},
   "source": [
    "- LeakyReLU - Точность: 93.65\n",
    "- Tanh - Точность: 89.31\n",
    "- ELU - Точность: 92.89\n",
    "- Sigmoid - Точность: 90.79"
   ]
  },
  {
   "cell_type": "markdown",
   "metadata": {},
   "source": []
  },
  {
   "cell_type": "code",
   "execution_count": 36,
   "metadata": {},
   "outputs": [
    {
     "name": "stdout",
     "output_type": "stream",
     "text": [
      "Predicted class is 6\n"
     ]
    },
    {
     "data": {
      "image/png": "[encoded data removed]",
      "text/plain": [
       "<Figure size 640x480 with 1 Axes>"
      ]
     },
     "metadata": {},
     "output_type": "display_data"
    }
   ],
   "source": [
    "def show_training_results():\n",
    "    images, labels = next(iter(train_loader))\n",
    "    plt.imshow(images[0].reshape(28,28), cmap=\"gray\")\n",
    "    images = images.reshape(-1, 28*28).to(device)\n",
    "    labels = labels.to(device)\n",
    "    outputs = model(images)\n",
    "    _, predicted = torch.max(outputs.data, 1)\n",
    "    print(f\"Predicted class is {predicted[0]}\")\n",
    "\n",
    "show_training_results()"
   ]
  },
  {
   "cell_type": "code",
   "execution_count": null,
   "metadata": {},
   "outputs": [],
   "source": []
  }
 ],
 "metadata": {
  "kernelspec": {
   "display_name": "torch",
   "language": "python",
   "name": "python3"
  },
  "language_info": {
   "codemirror_mode": {
    "name": "ipython",
    "version": 3
   },
   "file_extension": ".py",
   "mimetype": "text/x-python",
   "name": "python",
   "nbconvert_exporter": "python",
   "pygments_lexer": "ipython3",
   "version": "3.11.5"
  }
 },
 "nbformat": 4,
 "nbformat_minor": 2
}
