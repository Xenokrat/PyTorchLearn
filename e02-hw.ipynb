{
 "cells": [
  {
   "cell_type": "code",
   "execution_count": 44,
   "metadata": {},
   "outputs": [],
   "source": [
    "import torch\n",
    "import numpy as np\n",
    "from torch import nn, optim\n",
    "from torch.utils.data import TensorDataset, DataLoader, random_split"
   ]
  },
  {
   "cell_type": "markdown",
   "metadata": {},
   "source": [
    "y = 2 + 7 * sin(3 * x)\n",
    "\n",
    "y = a + b * sin(c * x)"
   ]
  },
  {
   "cell_type": "code",
   "execution_count": 45,
   "metadata": {},
   "outputs": [],
   "source": [
    "device = \"cuda\" if torch.cuda.is_available() else \"cpu\""
   ]
  },
  {
   "cell_type": "code",
   "execution_count": 46,
   "metadata": {},
   "outputs": [],
   "source": [
    "np.random.seed(42)\n",
    "# для тренировочных данных\n",
    "sz = 100\n",
    "x = np.random.rand(sz, 1)\n",
    "y = 2 + 7 * np.sin(3 * x) + np.random.randn(sz, 1)"
   ]
  },
  {
   "cell_type": "code",
   "execution_count": 47,
   "metadata": {},
   "outputs": [],
   "source": [
    "x_tensor = torch.from_numpy(x).float()\n",
    "y_tensor = torch.from_numpy(y).float()\n",
    "dataset = TensorDataset(x_tensor, y_tensor)\n",
    "train_dataset, val_dataset = random_split(dataset, [80, 20])\n",
    "train_loader = DataLoader(train_dataset, batch_size=16, shuffle=True)\n",
    "val_loader = DataLoader(val_dataset, batch_size=20, shuffle=True)"
   ]
  },
  {
   "cell_type": "code",
   "execution_count": 48,
   "metadata": {},
   "outputs": [],
   "source": [
    "# Создаем нелинейную модель\n",
    "class ManualNonLinearRegression(nn.Module):\n",
    "    def __init__(self):\n",
    "        super().__init__()\n",
    "        self.a = nn.Parameter(torch.randn(1, requires_grad=True, dtype=torch.float))\n",
    "        self.b = nn.Parameter(torch.randn(1, requires_grad=True, dtype=torch.float))\n",
    "        self.c = nn.Parameter(torch.randn(1, requires_grad=True, dtype=torch.float))\n",
    "\n",
    "    def forward(self, x):\n",
    "        return self.a + self.b * torch.sin(3 * x)"
   ]
  },
  {
   "cell_type": "code",
   "execution_count": 49,
   "metadata": {},
   "outputs": [],
   "source": [
    "# Параметры для обучения\n",
    "n_epochs = 10000\n",
    "lr = 0.1\n",
    "loss_fn = nn.MSELoss(reduction=\"mean\")\n",
    "model = ManualNonLinearRegression()\n",
    "optimizer = optim.SGD(model.parameters(), lr=lr)"
   ]
  },
  {
   "cell_type": "code",
   "execution_count": 50,
   "metadata": {},
   "outputs": [],
   "source": [
    "# Функция для создания шага обучения\n",
    "def make_train_step(model, loss_fn, optimizer):\n",
    "    def train_step(x, y):\n",
    "        model.train()\n",
    "        yhat = model(x)\n",
    "        loss = loss_fn(yhat, y)\n",
    "        loss.backward()\n",
    "        optimizer.step()\n",
    "        optimizer.zero_grad()\n",
    "        return loss\n",
    "    return train_step"
   ]
  },
  {
   "cell_type": "code",
   "execution_count": 51,
   "metadata": {},
   "outputs": [
    {
     "name": "stdout",
     "output_type": "stream",
     "text": [
      "Model state: OrderedDict([('a', tensor([2.6968])), ('b', tensor([6.0031])), ('c', tensor([-0.3820]))])\n",
      "Loss is 0.4589165449142456, Val_Loss is 36.56239318847656\n"
     ]
    }
   ],
   "source": [
    "train_step = make_train_step(model, loss_fn, optimizer)\n",
    "\n",
    "for epoch in range(n_epochs):\n",
    "    # обучение\n",
    "    for x_train_batch, y_train_batch in train_loader:\n",
    "        x_train_batch.to(device)\n",
    "        y_train_batch.to(device)\n",
    "        loss = train_step(x_train_batch, y_train_batch)\n",
    "\n",
    "    # валидация\n",
    "    with torch.no_grad():\n",
    "        for x_val_batch, y_val_batch in val_loader:\n",
    "            model.eval()\n",
    "            x_val_batch.to(device)\n",
    "            y_val_batch.to(device)\n",
    "            y_hat = model(x_val_batch)\n",
    "            val_loss = loss_fn(y_hat, x_val_batch)\n",
    "\n",
    "print(f\"Model state: {model.state_dict()}\")\n",
    "print(f\"Loss is {loss}, Val_Loss is {val_loss}\")"
   ]
  },
  {
   "cell_type": "markdown",
   "metadata": {},
   "source": [
    "## Для c это относительно точное значение, чтобы получить такую же синусоиду"
   ]
  },
  {
   "cell_type": "markdown",
   "metadata": {},
   "source": []
  }
 ],
 "metadata": {
  "kernelspec": {
   "display_name": "torch",
   "language": "python",
   "name": "python3"
  },
  "language_info": {
   "codemirror_mode": {
    "name": "ipython",
    "version": 3
   },
   "file_extension": ".py",
   "mimetype": "text/x-python",
   "name": "python",
   "nbconvert_exporter": "python",
   "pygments_lexer": "ipython3",
   "version": "3.11.5"
  }
 },
 "nbformat": 4,
 "nbformat_minor": 2
}
